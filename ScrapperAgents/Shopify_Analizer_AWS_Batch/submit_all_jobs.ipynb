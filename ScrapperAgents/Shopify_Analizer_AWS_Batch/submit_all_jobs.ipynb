{
 "cells": [
  {
   "cell_type": "code",
   "execution_count": 56,
   "id": "91cf856e-7ef5-46fa-8274-c9d691e62d0f",
   "metadata": {},
   "outputs": [],
   "source": [
    "import boto3"
   ]
  },
  {
   "cell_type": "code",
   "execution_count": 57,
   "id": "b826d067-f5eb-49a8-b535-a584c2e419d4",
   "metadata": {},
   "outputs": [],
   "source": [
    "# Initialize AWS Batch client\n",
    "batch_client = boto3.client('batch', region_name='eu-west-1')\n",
    "\n",
    "# Iterate through the list of Excel files in S3\n",
    "s3_bucket_name = 'mini-excels'\n",
    "s3_prefix = 'mini_excels/'  # If Excel files are in a specific folder\n",
    "\n",
    "response = boto3.client('s3').list_objects_v2(Bucket=s3_bucket_name, Prefix=s3_prefix)\n"
   ]
  },
  {
   "cell_type": "code",
   "execution_count": 58,
   "id": "578cd947-c047-44db-a748-3147d001dcbd",
   "metadata": {},
   "outputs": [
    {
     "data": {
      "text/plain": [
       "[{'Key': 'mini_excels/mini_excelsoutput_1.xlsx',\n",
       "  'LastModified': datetime.datetime(2023, 9, 22, 10, 0, 28, tzinfo=tzutc()),\n",
       "  'ETag': '\"2eea72ab029559aa93617bdb90c5c72d\"',\n",
       "  'Size': 23693,\n",
       "  'StorageClass': 'STANDARD'},\n",
       " {'Key': 'mini_excels/mini_excelsoutput_10.xlsx',\n",
       "  'LastModified': datetime.datetime(2023, 9, 22, 10, 0, 33, tzinfo=tzutc()),\n",
       "  'ETag': '\"dd67e7ab0bb031351d3ed25681471633\"',\n",
       "  'Size': 18580,\n",
       "  'StorageClass': 'STANDARD'},\n",
       " {'Key': 'mini_excels/mini_excelsoutput_2.xlsx',\n",
       "  'LastModified': datetime.datetime(2023, 9, 22, 10, 0, 28, tzinfo=tzutc()),\n",
       "  'ETag': '\"6a4dbdcb193281fdb0ffabeac29dd791\"',\n",
       "  'Size': 20015,\n",
       "  'StorageClass': 'STANDARD'},\n",
       " {'Key': 'mini_excels/mini_excelsoutput_3.xlsx',\n",
       "  'LastModified': datetime.datetime(2023, 9, 22, 10, 0, 29, tzinfo=tzutc()),\n",
       "  'ETag': '\"180e438a4c81c259150292ec8bc3de71\"',\n",
       "  'Size': 19143,\n",
       "  'StorageClass': 'STANDARD'},\n",
       " {'Key': 'mini_excels/mini_excelsoutput_4.xlsx',\n",
       "  'LastModified': datetime.datetime(2023, 9, 22, 10, 0, 29, tzinfo=tzutc()),\n",
       "  'ETag': '\"9b3938dfd15dc0fb2ee24599b0a9078f\"',\n",
       "  'Size': 17700,\n",
       "  'StorageClass': 'STANDARD'},\n",
       " {'Key': 'mini_excels/mini_excelsoutput_5.xlsx',\n",
       "  'LastModified': datetime.datetime(2023, 9, 22, 10, 0, 30, tzinfo=tzutc()),\n",
       "  'ETag': '\"a9bd7b1826eecacbb2a5e9b85da4f505\"',\n",
       "  'Size': 19114,\n",
       "  'StorageClass': 'STANDARD'},\n",
       " {'Key': 'mini_excels/mini_excelsoutput_6.xlsx',\n",
       "  'LastModified': datetime.datetime(2023, 9, 22, 10, 0, 30, tzinfo=tzutc()),\n",
       "  'ETag': '\"7a16427936029090ed3e8361c1bd276c\"',\n",
       "  'Size': 22690,\n",
       "  'StorageClass': 'STANDARD'},\n",
       " {'Key': 'mini_excels/mini_excelsoutput_7.xlsx',\n",
       "  'LastModified': datetime.datetime(2023, 9, 22, 10, 0, 31, tzinfo=tzutc()),\n",
       "  'ETag': '\"1caffd6e7615022f5eb9710b1a0de41d\"',\n",
       "  'Size': 30305,\n",
       "  'StorageClass': 'STANDARD'},\n",
       " {'Key': 'mini_excels/mini_excelsoutput_8.xlsx',\n",
       "  'LastModified': datetime.datetime(2023, 9, 22, 10, 0, 31, tzinfo=tzutc()),\n",
       "  'ETag': '\"f21e51a7df3384d6f857a8d858646693\"',\n",
       "  'Size': 22529,\n",
       "  'StorageClass': 'STANDARD'},\n",
       " {'Key': 'mini_excels/mini_excelsoutput_9.xlsx',\n",
       "  'LastModified': datetime.datetime(2023, 9, 22, 10, 0, 32, tzinfo=tzutc()),\n",
       "  'ETag': '\"1aad6ffb94a601ba5e7cbc92bb008c9b\"',\n",
       "  'Size': 24635,\n",
       "  'StorageClass': 'STANDARD'}]"
      ]
     },
     "execution_count": 58,
     "metadata": {},
     "output_type": "execute_result"
    }
   ],
   "source": [
    "response.get('Contents', [])[1:]"
   ]
  },
  {
   "cell_type": "code",
   "execution_count": 59,
   "id": "7f42d636-17f4-4b3a-8553-418c4dbdb6f2",
   "metadata": {},
   "outputs": [
    {
     "name": "stdout",
     "output_type": "stream",
     "text": [
      "mini_excels/mini_excelsoutput_1.xlsx\n",
      "Submitted job for mini_excels/mini_excelsoutput_1.xlsx: Job ID 059291c7-dda9-4e5d-a51f-8163d4849dcf\n",
      "mini_excels/mini_excelsoutput_10.xlsx\n",
      "Submitted job for mini_excels/mini_excelsoutput_10.xlsx: Job ID ed002352-9526-4173-829e-e0ce18a56155\n",
      "mini_excels/mini_excelsoutput_2.xlsx\n",
      "Submitted job for mini_excels/mini_excelsoutput_2.xlsx: Job ID 40e470f5-7664-410f-9323-2611dbd04fac\n",
      "mini_excels/mini_excelsoutput_3.xlsx\n",
      "Submitted job for mini_excels/mini_excelsoutput_3.xlsx: Job ID c2cc2d56-abfc-4af3-b034-a3f318c838f7\n"
     ]
    }
   ],
   "source": [
    "\n",
    "for index, excel_object in enumerate(response.get('Contents', [])[1:5], start=1):#solo nos printa los elementos que queremos ya que las keys seran el imput\n",
    "    excel_key = excel_object['Key'] #siempre hay que omitir el primero en la lista de arriba\n",
    "    print(excel_key)\n",
    "\n",
    "\n",
    "    # Define job parameters for each Excel file\n",
    "    job_parameters = {\n",
    "      '--input-folder': s3_bucket_name,\n",
    "      '--input-path': excel_key,  # Adjust output location\n",
    "        # Add other parameters as needed\n",
    "    }\n",
    "    \n",
    "    job_command = [\"python\",\"app.py\",\"--input-folder\",s3_bucket_name,\"--input-file\",excel_key]\n",
    "    # Define your AWS Batch job definition ARN\n",
    "    job_definition = 'arn:aws:batch:eu-west-1:070174870811:job-definition/demo1:1'\n",
    "\n",
    "    # Submit the job to AWS Batch\n",
    "    response = batch_client.submit_job(\n",
    "        jobName=f'process-excel-{index}',\n",
    "        jobQueue='getting-started-wizard-job-queue-demoo',\n",
    "        jobDefinition=job_definition,\n",
    "        parameters=job_parameters,\n",
    "         containerOverrides={\n",
    "            'command': job_command\n",
    "        }\n",
    "    )\n",
    "\n",
    "    print(f\"Submitted job for {excel_key}: Job ID {response['jobId']}\")"
   ]
  },
  {
   "cell_type": "code",
   "execution_count": 49,
   "id": "95d2e57f-e9be-40b6-ae39-1863b5b2a86f",
   "metadata": {},
   "outputs": [
    {
     "name": "stdout",
     "output_type": "stream",
     "text": [
      "mini_excels/mini_excelsoutput_1.xlsx\n",
      "mini_excels/mini_excelsoutput_10.xlsx\n",
      "mini_excels/mini_excelsoutput_2.xlsx\n",
      "mini_excels/mini_excelsoutput_3.xlsx\n",
      "mini_excels/mini_excelsoutput_4.xlsx\n",
      "mini_excels/mini_excelsoutput_5.xlsx\n",
      "mini_excels/mini_excelsoutput_6.xlsx\n",
      "mini_excels/mini_excelsoutput_7.xlsx\n",
      "mini_excels/mini_excelsoutput_8.xlsx\n",
      "mini_excels/mini_excelsoutput_9.xlsx\n",
      "mini_excels/mini_excelsoutput_1.xlsx\n",
      "1\n",
      "mini_excels/mini_excelsoutput_10.xlsx\n",
      "2\n",
      "mini_excels/mini_excelsoutput_2.xlsx\n",
      "3\n",
      "mini_excels/mini_excelsoutput_3.xlsx\n",
      "4\n",
      "mini_excels/mini_excelsoutput_4.xlsx\n",
      "5\n",
      "mini_excels/mini_excelsoutput_5.xlsx\n",
      "6\n",
      "mini_excels/mini_excelsoutput_6.xlsx\n",
      "7\n",
      "mini_excels/mini_excelsoutput_7.xlsx\n",
      "8\n",
      "mini_excels/mini_excelsoutput_8.xlsx\n",
      "9\n",
      "mini_excels/mini_excelsoutput_9.xlsx\n",
      "10\n"
     ]
    }
   ],
   "source": [
    "for excel_object in response.get('Contents', [])[1:]: #solo nos printa los elementos que queremos ya que las keys seran el imput\n",
    "    excel_key = excel_object['Key']\n",
    "    print(excel_key)\n",
    "\n"
   ]
  },
  {
   "cell_type": "code",
   "execution_count": null,
   "id": "2b604deb-299a-40e9-aad0-194abcb0e703",
   "metadata": {},
   "outputs": [],
   "source": []
  }
 ],
 "metadata": {
  "kernelspec": {
   "display_name": "openai",
   "language": "python",
   "name": "openai"
  },
  "language_info": {
   "codemirror_mode": {
    "name": "ipython",
    "version": 3
   },
   "file_extension": ".py",
   "mimetype": "text/x-python",
   "name": "python",
   "nbconvert_exporter": "python",
   "pygments_lexer": "ipython3",
   "version": "3.11.5"
  }
 },
 "nbformat": 4,
 "nbformat_minor": 5
}
